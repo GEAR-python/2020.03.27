{
 "nbformat": 4,
 "nbformat_minor": 2,
 "metadata": {
  "language_info": {
   "name": "python",
   "codemirror_mode": {
    "name": "ipython",
    "version": 3
   },
   "version": "3.7.7-final"
  },
  "orig_nbformat": 2,
  "file_extension": ".py",
  "mimetype": "text/x-python",
  "name": "python",
  "npconvert_exporter": "python",
  "pygments_lexer": "ipython3",
  "version": 3,
  "kernelspec": {
   "name": "python37764bitf208493c86fe428083de617bd329c2db",
   "display_name": "Python 3.7.7 64-bit"
  }
 },
 "cells": [
  {
   "cell_type": "code",
   "execution_count": null,
   "metadata": {},
   "outputs": [],
   "source": [
    "import numpy as np\n",
    "import pandas as pd\n",
    "import openpyxl as pyxl"
   ]
  },
  {
   "cell_type": "code",
   "execution_count": null,
   "metadata": {},
   "outputs": [],
   "source": [
    "file_name = \"data/측정기록지(2010년1월).xlsx\"\n",
    "wb = pyxl.load_workbook(file_name)\n",
    "\n",
    "test = wb.worksheets[0]\n",
    "\n",
    "pol_data = list()\n",
    "name = list()\n",
    "time = list()\n",
    "date = list()"
   ]
  },
  {
   "cell_type": "code",
   "execution_count": null,
   "metadata": {
    "tags": [
     "outputPrepend",
     "outputPrepend"
    ]
   },
   "outputs": [],
   "source": [
    "for r in test.rows:\n",
    "    if r[0].value == '측 정 소: ' :\n",
    "        continue\n",
    "    elif r[0].value == '측정항목: ' :\n",
    "        name = r[2].value\n",
    "        print(name)\n",
    "    elif r[0].value == '측정년월: ' :\n",
    "        year = (r[1].value)[0:5]\n",
    "        #month = int((r[2].value)[0:2])\n",
    "        month = (r[2].value)[0:2]\n",
    "        print(year, month)\n",
    "    elif r[0].value == '구 분' :\n",
    "        #10 이하 시간에는 숫자'0'추가, 10 이상에는 그냥 time 리스트에 저장\n",
    "        for t in range(1,25):\n",
    "            if int((r[t].value)[:-1]) < 10 :\n",
    "                time.append('0'+ (r[t].value)[:-1])\n",
    "            else:\n",
    "                time.append((r[t].value)[:-1])\n",
    "           # time.append((r[t].value)[:-1])\n",
    "        print(time)\n",
    "    elif r[0].value == '최소' :\n",
    "        #if문을 다 거친 pol_data(자료)를 이곳에서 dataframe에 넣어서 저장하기\n",
    "        if name == 'O₃':\n",
    "            df = pd.DataFrame(pol_data)\n",
    "            df.rename(columns={0:name}, inplace=True)\n",
    "            df.insert(0,'date', date)\n",
    "        else:\n",
    "            df[name] = pol_data\n",
    "\n",
    "        pol_data = list() #자료 항목이 바뀔때 마다 pol_data 리스트를 초기화\n",
    "        time = list()\n",
    "       # break\n",
    "    elif r[0].value == '최대' :\n",
    "        continue\n",
    "    elif r[0].value == '평균' :\n",
    "        continue\n",
    "    elif r[0].value == None :\n",
    "        continue\n",
    "    else :\n",
    "        #day = int((r[0].value)[:-1])\n",
    "        #날짜 중 '일'에 숫자 0 붙히기\n",
    "        if int((r[0].value)[:-1]) < 10 :\n",
    "            day = '0'+ (r[0].value)[:-1]\n",
    "        else :\n",
    "            day = (r[0].value)[:-1]\n",
    "\n",
    "        #각 오염 농도값을 pol_data 리스트에 추가하기\n",
    "        for i in range(1,25):\n",
    "            pol_data.append(r[i].value)\n",
    "            date.append(str(year)+str(month)+str(day)+str(time[i-1]))\n",
    "            print(str(year)+str(month)+str(day)+str(time[i-1]), pol_data[i-1])"
   ]
  },
  {
   "cell_type": "code",
   "execution_count": 7,
   "metadata": {},
   "outputs": [
    {
     "output_type": "stream",
     "name": "stdout",
     "text": "3\n            date     O₃    SO₂   CO    NO₂ PM-10\n0     2010010101  0.025  0.003  0.3  0.011    31\n1     2010010102  0.025  0.003  0.3  0.011    27\n2     2010010103  0.026  0.003  0.3  0.011    35\n3     2010010104  0.027  0.003  0.3   0.01    33\n4     2010010105  0.025  0.003  0.3  0.011    31\n..           ...    ...    ...  ...    ...   ...\n739   2010013120  0.003  0.009    1  0.055    82\n740   2010013121  0.003  0.009  1.2  0.056    78\n741   2010013122  0.003  0.008  1.2  0.056    80\n742   2010013123  0.003  0.007  1.1  0.054    85\n743   2010013124  0.004  0.007  0.8  0.049    78\n\n[744 rows x 6 columns]\n"
    }
   ],
   "source": [
    "print(\"3\")\n",
    "\n",
    "# 월별 파일들을 열어서 하나의 결과로 합치는 코딩 추가\n",
    "# 사이트별로 결과 뽑기\n",
    "# 통계변수 뽑아보기\n",
    "# 그림그리기\n",
    "\n",
    "print(df)\n",
    "\n",
    "df.to_excel('result.xlsx',sheet_name='Sheet1')"
   ]
  },
  {
   "cell_type": "code",
   "execution_count": null,
   "metadata": {},
   "outputs": [],
   "source": []
  }
 ]
}